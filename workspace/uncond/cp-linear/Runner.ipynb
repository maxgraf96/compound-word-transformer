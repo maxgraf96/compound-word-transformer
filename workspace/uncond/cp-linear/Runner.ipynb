{
 "cells": [
  {
   "cell_type": "code",
   "execution_count": null,
   "id": "08fec6c4",
   "metadata": {},
   "outputs": [
    {
     "name": "stdout",
     "output_type": "stream",
     "text": [
      "env: CUDA_VISIBLE_DEVICES=0\n",
      "num of classes: [56, 135, 18, 3, 87, 18, 25]\n",
      ">>>>>: [56, 135, 18, 3, 87, 18, 25]\n",
      "n_parameters: 39,016,630\n",
      "     num_batch: 406\n",
      "    train_x: (1625, 3584, 7)\n",
      "    train_y: (1625, 3584, 7)\n",
      "    train_mask: (1625, 3584)\n",
      "------------------------------------ 0.580588, 0.724094, 0.399481, 1.893414, 1.334554, 1.698354\n",
      "epoch: 0/4000 | Loss: 1.1779627826413497 | time: 0:04:08.095423\n",
      "    > 0.934130, 0.721352, 0.868697, 0.456854, 2.153091, 1.453848, 1.657766\n",
      " [*] saving model to exp, name: loss_high\n",
      "------------------------------------ 0.556455, 0.714305, 0.397948, 1.766916, 1.285248, 1.535787\n",
      "epoch: 1/4000 | Loss: 1.051061710994232 | time: 0:08:24.419234\n",
      "    > 0.848709, 0.612971, 0.761083, 0.420979, 1.860043, 1.328958, 1.524688\n",
      " [*] saving model to exp, name: loss_high\n",
      "------------------------------------ 0.521090, 0.697908, 0.389921, 1.663607, 1.258716, 1.522624\n",
      "epoch: 2/4000 | Loss: 1.020131935186574 | time: 0:12:36.625521\n",
      "    > 0.796997, 0.595806, 0.744796, 0.414767, 1.790509, 1.298330, 1.499719\n",
      " [*] saving model to exp, name: loss_high\n",
      "------------------------------------ 0.513054, 0.679207, 0.378743, 1.641087, 1.228932, 1.476840\n",
      "epoch: 3/4000 | Loss: 0.9962511354772915 | time: 0:16:49.250405\n",
      "    > 0.718715, 0.586312, 0.734634, 0.409755, 1.752698, 1.285436, 1.486208\n",
      " [*] saving model to exp, name: loss_high\n",
      "------------------------------------ 0.492970, 0.644755, 0.365991, 1.587302, 1.221351, 1.476810\n",
      "epoch: 4/4000 | Loss: 0.9767952565782763 | time: 0:21:04.155203\n",
      "    > 0.659393, 0.578562, 0.725089, 0.403924, 1.721615, 1.273132, 1.475852\n",
      " [*] saving model to exp, name: loss_high\n",
      "------------------------------------ 0.443234, 0.495082, 0.362882, 1.561352, 1.224171, 1.456626\n",
      "epoch: 5/4000 | Loss: 0.9553075506182139 | time: 0:25:20.590276\n",
      "    > 0.615359, 0.559844, 0.684135, 0.398598, 1.696224, 1.264281, 1.468711\n",
      " [*] saving model to exp, name: loss_high\n",
      "186/406 | Loss: 0.892067 | 0.605907, 0.655037, 0.559716, 0.327989, 1.592942, 1.194245, 1.308635\r"
     ]
    }
   ],
   "source": [
    "%env CUDA_VISIBLE_DEVICES=0\n",
    "\n",
    "from main_cp import *\n",
    "\n",
    "MODE = 'train'\n",
    "\n",
    "# -- training -- #\n",
    "if MODE == 'train':\n",
    "    train()\n",
    "\n",
    "# -- inference -- #\n",
    "elif MODE == 'inference':\n",
    "    generate()"
   ]
  },
  {
   "cell_type": "code",
   "execution_count": null,
   "id": "baf0d31d",
   "metadata": {},
   "outputs": [],
   "source": []
  }
 ],
 "metadata": {
  "kernelspec": {
   "display_name": "Python 3",
   "language": "python",
   "name": "python3"
  },
  "language_info": {
   "codemirror_mode": {
    "name": "ipython",
    "version": 3
   },
   "file_extension": ".py",
   "mimetype": "text/x-python",
   "name": "python",
   "nbconvert_exporter": "python",
   "pygments_lexer": "ipython3",
   "version": "3.6.6"
  }
 },
 "nbformat": 4,
 "nbformat_minor": 5
}
